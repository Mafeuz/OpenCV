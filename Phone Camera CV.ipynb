{
 "cells": [
  {
   "cell_type": "code",
   "execution_count": 2,
   "metadata": {},
   "outputs": [],
   "source": [
    "import numpy as np\n",
    "import cv2\n",
    "import time\n",
    "import matplotlib.pyplot as plt"
   ]
  },
  {
   "cell_type": "code",
   "execution_count": 15,
   "metadata": {},
   "outputs": [],
   "source": [
    "def canny_custom(gray_frame, erosion, dilation):\n",
    "           \n",
    "    blurred = cv2.GaussianBlur(gray_frame, (3, 3), 1)\n",
    "    frame_canny = cv2.Canny(blurred, 100, 100)\n",
    "    kernel = np.ones((5,5),np.uint8)\n",
    "    \n",
    "    if (erosion > 0):\n",
    "        gray_frame = cv2.erode(gray_frame,kernel,iterations = erosion)\n",
    "        blurred = cv2.GaussianBlur(gray_frame, (3, 3), 1)\n",
    "        frame_canny = cv2.Canny(blurred, 100, 100)\n",
    "        \n",
    "    if (dilation > 0):\n",
    "        kernel = np.ones((2,2),np.uint8)\n",
    "        frame_canny = cv2.dilate(frame_canny,kernel,iterations = dilation)\n",
    "        \n",
    "    return frame_canny"
   ]
  },
  {
   "cell_type": "code",
   "execution_count": 17,
   "metadata": {},
   "outputs": [
    {
     "name": "stdout",
     "output_type": "stream",
     "text": [
      "Server OFF\n"
     ]
    }
   ],
   "source": [
    "cap = cv2.VideoCapture('http://192.168.0.106:8080/video')\n",
    "\n",
    "erosion = 0\n",
    "dilation = 0\n",
    "Alfa = 1\n",
    "Beta = 0\n",
    "\n",
    "while True:\n",
    "    \n",
    "    start_time = time.time()\n",
    "    \n",
    "    success, frame = cap.read()\n",
    "    \n",
    "    if not success:\n",
    "        print('Server OFF')\n",
    "        break\n",
    "        \n",
    "    # Keyboard Controls:\n",
    "    \n",
    "    key = cv2.waitKey(1) or 0xff   \n",
    "        \n",
    "    if key == ord('k'):\n",
    "        break\n",
    "        \n",
    "    if key == ord('+'):\n",
    "        Alfa += 1    \n",
    "    \n",
    "    if key == ord('-'):\n",
    "        if Alfa > 1:\n",
    "            Alfa -= 1  \n",
    "            \n",
    "    if key == ord('9'):\n",
    "        Beta += 5    \n",
    "    \n",
    "    if key == ord('0'):\n",
    "        if Beta > 0:\n",
    "            Beta -= 5  \n",
    "               \n",
    "    if key == ord('1'):\n",
    "        erosion += 1\n",
    "        \n",
    "    if key == ord('2'):\n",
    "        erosion -= 1\n",
    "        \n",
    "    if key == ord('4'):\n",
    "        dilation += 1\n",
    "        \n",
    "    if key == ord('5'):\n",
    "        dilation -= 1\n",
    "\n",
    "    frame = cv2.resize(frame, (600, 480))\n",
    "    frame = cv2.flip(frame, 0)\n",
    "    frame = cv2.flip(frame, 1)\n",
    "    frame = frame*Alfa + Beta\n",
    "    \n",
    "    gray_frame = cv2.cvtColor(frame, cv2.COLOR_BGR2GRAY)\n",
    "    frame_canny = canny_custom(gray_frame, erosion, dilation)\n",
    "    frame_canny = cv2.cvtColor(frame_canny, cv2.COLOR_GRAY2BGR)\n",
    "    \n",
    "    final_frame = np.concatenate((frame,  frame_canny), axis=1)\n",
    "    \n",
    "    cv2.putText(final_frame, \"Dilation: {}\".format(dilation), (30,50), cv2.FONT_HERSHEY_SIMPLEX, 0.5, (255, 0, 0), 2)\n",
    "    cv2.putText(final_frame, \"Erosion: {}\".format(erosion), (30,80), cv2.FONT_HERSHEY_SIMPLEX, 0.5, (255, 0, 0), 2)\n",
    "    \n",
    "    cv2.putText(final_frame, \"Alfa: {}\".format(Alfa), (30,150), cv2.FONT_HERSHEY_SIMPLEX, 0.5, (255, 0, 0), 2)\n",
    "    cv2.putText(final_frame, \"Beta: {}\".format(Beta), (30,180), cv2.FONT_HERSHEY_SIMPLEX, 0.5, (255, 0, 0), 2)\n",
    "    \n",
    "    end_time = time.time()\n",
    "    \n",
    "    FPS = 1/(end_time - start_time + 0.0001)\n",
    "    \n",
    "    cv2.putText(final_frame, \"FPS: {}\".format(FPS), (30,20), cv2.FONT_HERSHEY_SIMPLEX, 0.5, (255, 0, 0), 2)\n",
    "    \n",
    "    cv2.imshow(\"Phone Camera\", final_frame)\n",
    "\n",
    "cv2.destroyAllWindows()"
   ]
  },
  {
   "cell_type": "code",
   "execution_count": null,
   "metadata": {},
   "outputs": [],
   "source": []
  }
 ],
 "metadata": {
  "kernelspec": {
   "display_name": "Python 3",
   "language": "python",
   "name": "python3"
  },
  "language_info": {
   "codemirror_mode": {
    "name": "ipython",
    "version": 3
   },
   "file_extension": ".py",
   "mimetype": "text/x-python",
   "name": "python",
   "nbconvert_exporter": "python",
   "pygments_lexer": "ipython3",
   "version": "3.7.1"
  }
 },
 "nbformat": 4,
 "nbformat_minor": 2
}
