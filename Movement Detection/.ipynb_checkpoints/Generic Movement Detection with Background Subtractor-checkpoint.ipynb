{
 "cells": [
  {
   "cell_type": "markdown",
   "metadata": {},
   "source": [
    "### Generic Movement Detection with OpenCV Background Subtractor"
   ]
  },
  {
   "cell_type": "markdown",
   "metadata": {},
   "source": [
    "Let's track objects that are moving in a static camera scene using OpenCV Background Subtractor"
   ]
  },
  {
   "cell_type": "code",
   "execution_count": 1,
   "metadata": {},
   "outputs": [],
   "source": [
    "# video ref: https://www.pexels.com/video/road-systems-in-montreal-canada-for-traffic-management-of-motor-vehicles-3727445/"
   ]
  },
  {
   "cell_type": "code",
   "execution_count": 3,
   "metadata": {},
   "outputs": [],
   "source": [
    "import numpy as np\n",
    "import matplotlib.pyplot as plt\n",
    "import cv2\n",
    "import time"
   ]
  },
  {
   "cell_type": "code",
   "execution_count": 4,
   "metadata": {},
   "outputs": [],
   "source": [
    "import sys\n",
    "sys.path.append('C:/Users/Mafeus/Desktop/Git_Repos/OpenCV')\n",
    "import OpCV_Utils"
   ]
  },
  {
   "cell_type": "code",
   "execution_count": 21,
   "metadata": {},
   "outputs": [],
   "source": [
    "# Create Background Subtractor Object:\n",
    "movement_detector = cv2.createBackgroundSubtractorMOG2()\n",
    "\n",
    "########################################### Video Stream Loop #######################################################\n",
    "#####################################################################################################################\n",
    "\n",
    "# Load Video:\n",
    "video_path = 'traffic.mp4'\n",
    "cap = cv2.VideoCapture(video_path)\n",
    "video_fps = cap.get(cv2.CAP_PROP_FPS)\n",
    "des_resolution = (640,480)\n",
    "\n",
    "while True:\n",
    "    \n",
    "    # Get Frame:\n",
    "    start = time.time()\n",
    "    success, frame = cap.read()\n",
    "    \n",
    "    if not success:\n",
    "        print('Server OFF')\n",
    "        break\n",
    "        \n",
    "    frame = cv2.resize(frame, des_resolution)\n",
    "    \n",
    "    detection = movement_detector.apply(frame)\n",
    "        \n",
    "    detection = cv2.cvtColor(detection, cv2.COLOR_GRAY2BGR)\n",
    "    \n",
    "    frame = OpCV_Utils.stackImgs([[frame, detection]], sep_lines=True, scale=0.8)\n",
    "    \n",
    "    ###############################################################################################################\n",
    "    ############################################# Processing ######################################################\n",
    "    ###############################################################################################################\n",
    "    \n",
    "    ###############################################################################################################\n",
    "    # Display FPS:\n",
    "    end = time.time()\n",
    "\n",
    "    frame_time = (end - start) + 0.0001\n",
    "    fps = np.floor(1/frame_time)\n",
    "        \n",
    "    if (fps > video_fps):\n",
    "        time.sleep(1/video_fps)\n",
    "        fps = video_fps\n",
    "            \n",
    "    cv2.putText(frame, \"FPS: {}\".format(fps), (30,20), cv2.FONT_HERSHEY_SIMPLEX, 0.5, (0, 0, 255), 2)\n",
    "    ###############################################################################################################\n",
    "    # Keyboard Controls:\n",
    "    key = cv2.waitKey(1) or 0xff   \n",
    "    if key == ord('k'):\n",
    "        break\n",
    "    ###############################################################################################################\n",
    "    # Show Frame:\n",
    "    cv2.imshow(\"Video Stream\", frame)\n",
    "    ###############################################################################################################\n",
    "    \n",
    "cv2.destroyAllWindows()\n",
    "cap.release()"
   ]
  },
  {
   "cell_type": "code",
   "execution_count": null,
   "metadata": {},
   "outputs": [],
   "source": []
  }
 ],
 "metadata": {
  "kernelspec": {
   "display_name": "Python 3",
   "language": "python",
   "name": "python3"
  },
  "language_info": {
   "codemirror_mode": {
    "name": "ipython",
    "version": 3
   },
   "file_extension": ".py",
   "mimetype": "text/x-python",
   "name": "python",
   "nbconvert_exporter": "python",
   "pygments_lexer": "ipython3",
   "version": "3.7.1"
  }
 },
 "nbformat": 4,
 "nbformat_minor": 2
}
