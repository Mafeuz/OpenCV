{
 "cells": [
  {
   "cell_type": "code",
   "execution_count": 2,
   "metadata": {},
   "outputs": [],
   "source": [
    "# Ref Dataset 1: http://sites.ecomp.uefs.br/lasic/projetos/libras-dataset\n",
    "# Ref: I. L. O. Bastos, M. F. Angelo and A. C. Loula, \"Recognition of Static Gestures Applied to Brazilian Sign Language (Libras),\n",
    "# \" 2015 28th SIBGRAPI Conference on Graphics, Patterns and Images, Salvador, 2015, pp. 305-312."
   ]
  },
  {
   "cell_type": "code",
   "execution_count": 1,
   "metadata": {},
   "outputs": [],
   "source": [
    "import numpy as np\n",
    "import time\n",
    "import matplotlib.pyplot as plt\n",
    "import cv2\n",
    "import mediapipe as mp"
   ]
  },
  {
   "cell_type": "code",
   "execution_count": 2,
   "metadata": {},
   "outputs": [],
   "source": [
    "import sys\n",
    "sys.path.append('C:/Users/Mafeus/Desktop/Git_Repos/OpenCV')\n",
    "import OpCV_Utils"
   ]
  },
  {
   "cell_type": "code",
   "execution_count": 3,
   "metadata": {},
   "outputs": [],
   "source": [
    "import glob"
   ]
  },
  {
   "cell_type": "code",
   "execution_count": 4,
   "metadata": {},
   "outputs": [],
   "source": [
    "dataset_path = 'C:/Users/Mafeus/Desktop/Libras_Dataset/Folds_Dataset_Final/Fold1'"
   ]
  },
  {
   "cell_type": "code",
   "execution_count": 79,
   "metadata": {},
   "outputs": [],
   "source": [
    "A_imgs = glob.glob(dataset_path + '/A/' + '*.png');\n",
    "B_imgs = glob.glob(dataset_path + '/B/' + '*.png');\n",
    "C_imgs = glob.glob(dataset_path + '/C/' + '*.png');\n",
    "D_imgs = glob.glob(dataset_path + '/D/' + '*.png');\n",
    "E_imgs = glob.glob(dataset_path + '/E/' + '*.png');\n",
    "F_imgs = glob.glob(dataset_path + '/F/' + '*.png');\n",
    "G_imgs = glob.glob(dataset_path + '/G/' + '*.png');\n",
    "I_imgs = glob.glob(dataset_path + '/I/' + '*.png');\n",
    "L_imgs = glob.glob(dataset_path + '/L/' + '*.png');\n",
    "M_imgs = glob.glob(dataset_path + '/M/' + '*.png');\n",
    "N_imgs = glob.glob(dataset_path + '/N/' + '*.png');\n",
    "O_imgs = glob.glob(dataset_path + '/O/' + '*.png');\n",
    "P_imgs = glob.glob(dataset_path + '/P/' + '*.png');\n",
    "Q_imgs = glob.glob(dataset_path + '/Q/' + '*.png');\n",
    "R_imgs = glob.glob(dataset_path + '/R/' + '*.png');\n",
    "S_imgs = glob.glob(dataset_path + '/S/' + '*.png');\n",
    "T_imgs = glob.glob(dataset_path + '/T/' + '*.png');\n",
    "U_imgs = glob.glob(dataset_path + '/U/' + '*.png');\n",
    "V_imgs = glob.glob(dataset_path + '/V/' + '*.png');\n",
    "W_imgs = glob.glob(dataset_path + '/W/' + '*.png');\n",
    "X_imgs = glob.glob(dataset_path + '/X/' + '*.png');\n",
    "Y_imgs = glob.glob(dataset_path + '/Y/' + '*.png');"
   ]
  },
  {
   "cell_type": "code",
   "execution_count": 43,
   "metadata": {},
   "outputs": [],
   "source": [
    "# Object Instances:\n",
    "mpDraw = mp.solutions.drawing_utils\n",
    "mpHands = mp.solutions.hands\n",
    "hands = mpHands.Hands(static_image_mode=True, max_num_hands=1, min_detection_confidence=0.1, min_tracking_confidence=0.1)"
   ]
  },
  {
   "cell_type": "code",
   "execution_count": 44,
   "metadata": {},
   "outputs": [],
   "source": [
    "def hand_detection(frame, results, mpDraw, mpHands):\n",
    "    \n",
    "    for handLandmarks in results.multi_hand_landmarks:\n",
    "            \n",
    "        landmarks_list = []\n",
    "            \n",
    "        for id, lm in enumerate(handLandmarks.landmark):\n",
    "            h, w, c = frame.shape\n",
    "            cX, cY  = int(lm.x*w), int(lm.y*h)\n",
    "                \n",
    "            cv2.circle(frame, (cX, cY), 6, (205, 0, 0), cv2.FILLED)\n",
    "            cv2.putText(frame, '{}'.format(id), (cX, cY), cv2.FONT_HERSHEY_SIMPLEX, 0.4, (150, 0, 0), 1)\n",
    "                                \n",
    "            landmarks_list.append([id, cX, cY])\n",
    "            \n",
    "        mpDraw.draw_landmarks(frame, handLandmarks, mpHands.HAND_CONNECTIONS)\n",
    "                        \n",
    "        return frame"
   ]
  },
  {
   "cell_type": "code",
   "execution_count": 96,
   "metadata": {},
   "outputs": [],
   "source": [
    "# FSRCNN\n",
    "# ref: https://www.pyimagesearch.com/2020/11/09/opencv-super-resolution-with-deep-learning/\n",
    "path3x = 'FSRCNN_x3.pb'\n",
    "path8x = 'LapSRN_x8.pb'\n",
    "\n",
    "sr3x = cv2.dnn_superres.DnnSuperResImpl_create()\n",
    "\n",
    "sr3x.readModel(path3x)\n",
    "sr3x.setModel(\"fsrcnn\", 3)\n",
    "\n",
    "sr8x = cv2.dnn_superres.DnnSuperResImpl_create()\n",
    "\n",
    "sr8x.readModel(path8x)\n",
    "sr8x.setModel('lapsrn', 8)"
   ]
  },
  {
   "cell_type": "code",
   "execution_count": 99,
   "metadata": {},
   "outputs": [
    {
     "ename": "TypeError",
     "evalue": "'NoneType' object is not iterable",
     "output_type": "error",
     "traceback": [
      "\u001b[1;31m---------------------------------------------------------------------------\u001b[0m",
      "\u001b[1;31mTypeError\u001b[0m                                 Traceback (most recent call last)",
      "\u001b[1;32m<ipython-input-99-6536568e5444>\u001b[0m in \u001b[0;36m<module>\u001b[1;34m\u001b[0m\n\u001b[0;32m     15\u001b[0m \u001b[1;33m\u001b[0m\u001b[0m\n\u001b[0;32m     16\u001b[0m \u001b[0mresults\u001b[0m \u001b[1;33m=\u001b[0m \u001b[0mhands\u001b[0m\u001b[1;33m.\u001b[0m\u001b[0mprocess\u001b[0m\u001b[1;33m(\u001b[0m\u001b[0mcv2\u001b[0m\u001b[1;33m.\u001b[0m\u001b[0mcvtColor\u001b[0m\u001b[1;33m(\u001b[0m\u001b[0mimg\u001b[0m\u001b[1;33m,\u001b[0m \u001b[0mcv2\u001b[0m\u001b[1;33m.\u001b[0m\u001b[0mCOLOR_BGR2RGB\u001b[0m\u001b[1;33m)\u001b[0m\u001b[1;33m)\u001b[0m\u001b[1;33m\u001b[0m\u001b[1;33m\u001b[0m\u001b[0m\n\u001b[1;32m---> 17\u001b[1;33m \u001b[0mimg\u001b[0m \u001b[1;33m=\u001b[0m \u001b[0mhand_detection\u001b[0m\u001b[1;33m(\u001b[0m\u001b[0mimg\u001b[0m\u001b[1;33m,\u001b[0m \u001b[0mresults\u001b[0m\u001b[1;33m,\u001b[0m \u001b[0mmpDraw\u001b[0m\u001b[1;33m,\u001b[0m \u001b[0mmpHands\u001b[0m\u001b[1;33m)\u001b[0m\u001b[1;33m\u001b[0m\u001b[1;33m\u001b[0m\u001b[0m\n\u001b[0m\u001b[0;32m     18\u001b[0m \u001b[1;33m\u001b[0m\u001b[0m\n\u001b[0;32m     19\u001b[0m \u001b[0mcv2\u001b[0m\u001b[1;33m.\u001b[0m\u001b[0mimshow\u001b[0m\u001b[1;33m(\u001b[0m\u001b[1;34m'img'\u001b[0m\u001b[1;33m,\u001b[0m \u001b[0mimg\u001b[0m\u001b[1;33m)\u001b[0m\u001b[1;33m\u001b[0m\u001b[1;33m\u001b[0m\u001b[0m\n",
      "\u001b[1;32m<ipython-input-44-b41023ead82c>\u001b[0m in \u001b[0;36mhand_detection\u001b[1;34m(frame, results, mpDraw, mpHands)\u001b[0m\n\u001b[0;32m      1\u001b[0m \u001b[1;32mdef\u001b[0m \u001b[0mhand_detection\u001b[0m\u001b[1;33m(\u001b[0m\u001b[0mframe\u001b[0m\u001b[1;33m,\u001b[0m \u001b[0mresults\u001b[0m\u001b[1;33m,\u001b[0m \u001b[0mmpDraw\u001b[0m\u001b[1;33m,\u001b[0m \u001b[0mmpHands\u001b[0m\u001b[1;33m)\u001b[0m\u001b[1;33m:\u001b[0m\u001b[1;33m\u001b[0m\u001b[1;33m\u001b[0m\u001b[0m\n\u001b[0;32m      2\u001b[0m \u001b[1;33m\u001b[0m\u001b[0m\n\u001b[1;32m----> 3\u001b[1;33m     \u001b[1;32mfor\u001b[0m \u001b[0mhandLandmarks\u001b[0m \u001b[1;32min\u001b[0m \u001b[0mresults\u001b[0m\u001b[1;33m.\u001b[0m\u001b[0mmulti_hand_landmarks\u001b[0m\u001b[1;33m:\u001b[0m\u001b[1;33m\u001b[0m\u001b[1;33m\u001b[0m\u001b[0m\n\u001b[0m\u001b[0;32m      4\u001b[0m \u001b[1;33m\u001b[0m\u001b[0m\n\u001b[0;32m      5\u001b[0m         \u001b[0mlandmarks_list\u001b[0m \u001b[1;33m=\u001b[0m \u001b[1;33m[\u001b[0m\u001b[1;33m]\u001b[0m\u001b[1;33m\u001b[0m\u001b[1;33m\u001b[0m\u001b[0m\n",
      "\u001b[1;31mTypeError\u001b[0m: 'NoneType' object is not iterable"
     ]
    }
   ],
   "source": [
    "img = cv2.imread(A_imgs[4])\n",
    "img = cv2.bitwise_not(img)\n",
    "\n",
    "img = sr3x.upsample(img)\n",
    "\n",
    "img = OpCV_Utils.contrast_CLAHE(img)\n",
    "\n",
    "img = cv2.resize(img, (400,400))\n",
    "\n",
    "img = cv2.bitwise_not(img)\n",
    "\n",
    "cv2.imshow('img', img)\n",
    "cv2.waitKey(0)\n",
    "cv2.destroyAllWindows()\n",
    "\n",
    "results = hands.process(cv2.cvtColor(img, cv2.COLOR_BGR2RGB))\n",
    "img = hand_detection(img, results, mpDraw, mpHands)\n",
    "\n",
    "cv2.imshow('img', img)\n",
    "cv2.waitKey(0)\n",
    "cv2.destroyAllWindows()"
   ]
  },
  {
   "cell_type": "code",
   "execution_count": null,
   "metadata": {},
   "outputs": [],
   "source": []
  },
  {
   "cell_type": "code",
   "execution_count": null,
   "metadata": {},
   "outputs": [],
   "source": []
  }
 ],
 "metadata": {
  "kernelspec": {
   "display_name": "Python 3",
   "language": "python",
   "name": "python3"
  },
  "language_info": {
   "codemirror_mode": {
    "name": "ipython",
    "version": 3
   },
   "file_extension": ".py",
   "mimetype": "text/x-python",
   "name": "python",
   "nbconvert_exporter": "python",
   "pygments_lexer": "ipython3",
   "version": "3.7.1"
  }
 },
 "nbformat": 4,
 "nbformat_minor": 2
}
