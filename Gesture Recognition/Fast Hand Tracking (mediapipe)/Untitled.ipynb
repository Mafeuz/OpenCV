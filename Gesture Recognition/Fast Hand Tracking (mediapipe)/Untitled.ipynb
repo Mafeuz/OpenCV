{
 "cells": [
  {
   "cell_type": "code",
   "execution_count": null,
   "metadata": {},
   "outputs": [],
   "source": [
    "import numpy as np\n",
    "import cv2\n",
    "import mediapipe as mp\n",
    "\n",
    "##############################################################################################################################\n",
    "########################################### Mediapipe Hands Detection Class ##################################################\n",
    "\n",
    "class mp_hands_detection:\n",
    "    \n",
    "    def __init__(self, static_image_mode=False, max_num_hands=1, min_detection_confidence=0.5, min_tracking_confidence=0.5):\n",
    "        \n",
    "        self.mpDraw  = mp.solutions.drawing_utils\n",
    "        self.mpHands = mp.solutions.hands\n",
    "        \n",
    "        self.static_image_mode        = static_image_mode\n",
    "        self.max_num_hands            = max_num_hands \n",
    "        self.min_detection_confidence = min_detection_confidence\n",
    "        self.min_tracking_confidence  = min_tracking_confidence\n",
    "        \n",
    "        self.hands = self.mpHands.Hands(static_image_mode = static_image_mode, \n",
    "                                        max_num_hands = max_num_hands, \n",
    "                                        min_detection_confidence = min_detection_confidence,\n",
    "                                        min_tracking_confidence = min_tracking_confidence)\n",
    "        \n",
    "    def hand_process(self, frame_bgr, draw=True):\n",
    "        \n",
    "        self.frame_bgr = frame_bgr\n",
    "        self.draw = draw\n",
    "    \n",
    "        self.results = self.hands.process(cv2.cvtColor(self.frame_bgr, cv2.COLOR_BGR2RGB))\n",
    "        \n",
    "        self.landmarks_list = []\n",
    "        self.landmarks_list_no_scaled = []\n",
    "    \n",
    "        if self.results.multi_hand_landmarks: \n",
    "            \n",
    "            for handLandmarks in self.results.multi_hand_landmarks:\n",
    "\n",
    "                self.landmarks_list = []\n",
    "                self.landmarks_list_no_scaled = []\n",
    "\n",
    "                for id, lm in enumerate(handLandmarks.landmark):\n",
    "                    h, w, c = self.frame_bgr.shape\n",
    "                    cX, cY  = int(lm.x*w), int(lm.y*h)\n",
    "\n",
    "                    self.landmarks_list.append([id, cX, cY])\n",
    "                    self.landmarks_list_no_scaled.append([id, lm.x, lm.y])\n",
    "\n",
    "                if self.draw:\n",
    "                    self.mpDraw.draw_landmarks(self.frame_bgr, handLandmarks, self.mpHands.HAND_CONNECTIONS)\n",
    "                    cv2.circle(self.frame_bgr, (cX, cY), 1, (255, 0, 0), cv2.FILLED)\n",
    "                    cv2.putText(self.frame_bgr, '{}'.format(id), (cX, cY), cv2.FONT_HERSHEY_SIMPLEX, 0.4, (150, 0, 0), 1)\n",
    "                    \n",
    "                return self.landmarks_list, self.landmarks_list_no_scaled\n",
    "            \n",
    "##############################################################################################################################"
   ]
  }
 ],
 "metadata": {
  "kernelspec": {
   "display_name": "Python 3",
   "language": "python",
   "name": "python3"
  },
  "language_info": {
   "codemirror_mode": {
    "name": "ipython",
    "version": 3
   },
   "file_extension": ".py",
   "mimetype": "text/x-python",
   "name": "python",
   "nbconvert_exporter": "python",
   "pygments_lexer": "ipython3",
   "version": "3.7.1"
  }
 },
 "nbformat": 4,
 "nbformat_minor": 2
}
