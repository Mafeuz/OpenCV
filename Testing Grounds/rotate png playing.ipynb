{
 "cells": [
  {
   "cell_type": "code",
   "execution_count": 1,
   "metadata": {},
   "outputs": [],
   "source": [
    "import numpy as np\n",
    "import cv2\n",
    "import matplotlib.pyplot as plt"
   ]
  },
  {
   "cell_type": "code",
   "execution_count": 2,
   "metadata": {},
   "outputs": [],
   "source": [
    "import sys\n",
    "sys.path.append('C:/Users/Mafeus/Desktop/Git_Repos/OpenCV')\n",
    "import OpCV_Utils"
   ]
  },
  {
   "cell_type": "code",
   "execution_count": 9,
   "metadata": {},
   "outputs": [],
   "source": [
    "img = cv2.imread('img1.png')\n",
    "wheel = cv2.imread('wheel.png')\n",
    "angle = 0\n",
    "\n",
    "while True:\n",
    "    \n",
    "    img_use = img.copy()\n",
    "    \n",
    "    angle += 5\n",
    "        \n",
    "    rotated = OpCV_Utils.img_rotation(wheel, angle, pivot=(wheel.shape[1]//2, wheel.shape[0]//2), keep_full_img=False)\n",
    "        \n",
    "    mask = np.zeros_like(img)\n",
    "    \n",
    "    mask[:rotated.shape[0], :rotated.shape[1], :] = rotated\n",
    "    \n",
    "    # Move to desired position:\n",
    "    \n",
    "    cX, cY = (300,200)\n",
    "    \n",
    "    mask = OpCV_Utils.img_translation(mask, cX, cY)\n",
    "        \n",
    "    img_use[np.where((mask != [0,0,0]).all(axis = 2))] = [0,0,0]\n",
    "    \n",
    "    output = cv2.bitwise_or(img_use, mask)\n",
    "    \n",
    "    mag, phase = OpCV_Utils.imgFourrierTransform(mask)\n",
    "    \n",
    "    output = cv2.resize(output, (480, 360))\n",
    "    mask = cv2.resize(mask, (480, 360))\n",
    "    mag = cv2.resize(mag, (480, 360))\n",
    "    phase = cv2.resize(phase, (480, 360))\n",
    "\n",
    "    if (angle > 360):\n",
    "        angle = 0\n",
    "    \n",
    "     # Keyboard Controls:\n",
    "    \n",
    "    key = cv2.waitKey(1) or 0xff   \n",
    "        \n",
    "    if key == ord('k'):\n",
    "        break\n",
    "    \n",
    "    cv2.imshow('rotation', mask)\n",
    "    cv2.imshow('rotation2', output)\n",
    "    cv2.imshow('fourrier mag', mag)\n",
    "    cv2.imshow('fourrier phase', phase)\n",
    "        \n",
    "cv2.destroyAllWindows() "
   ]
  },
  {
   "cell_type": "code",
   "execution_count": null,
   "metadata": {},
   "outputs": [],
   "source": []
  },
  {
   "cell_type": "code",
   "execution_count": null,
   "metadata": {},
   "outputs": [],
   "source": []
  }
 ],
 "metadata": {
  "kernelspec": {
   "display_name": "Python 3",
   "language": "python",
   "name": "python3"
  },
  "language_info": {
   "codemirror_mode": {
    "name": "ipython",
    "version": 3
   },
   "file_extension": ".py",
   "mimetype": "text/x-python",
   "name": "python",
   "nbconvert_exporter": "python",
   "pygments_lexer": "ipython3",
   "version": "3.7.1"
  }
 },
 "nbformat": 4,
 "nbformat_minor": 2
}
