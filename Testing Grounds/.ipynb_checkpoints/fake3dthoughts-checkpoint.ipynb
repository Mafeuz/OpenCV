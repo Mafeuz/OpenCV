{
 "cells": [
  {
   "cell_type": "code",
   "execution_count": 1,
   "metadata": {},
   "outputs": [
    {
     "ename": "ImportError",
     "evalue": "cannot import name 'show_single_image' from 'OpCV_Utils' (C:\\Users\\Mafeus\\Desktop\\Git_Repos\\OpenCV\\Testing Grounds\\OpCV_Utils.py)",
     "output_type": "error",
     "traceback": [
      "\u001b[1;31m---------------------------------------------------------------------------\u001b[0m",
      "\u001b[1;31mImportError\u001b[0m                               Traceback (most recent call last)",
      "\u001b[1;32m<ipython-input-1-740bafa645e0>\u001b[0m in \u001b[0;36m<module>\u001b[1;34m\u001b[0m\n\u001b[0;32m      3\u001b[0m \u001b[1;32mimport\u001b[0m \u001b[0mmatplotlib\u001b[0m\u001b[1;33m.\u001b[0m\u001b[0mpyplot\u001b[0m \u001b[1;32mas\u001b[0m \u001b[0mplt\u001b[0m\u001b[1;33m\u001b[0m\u001b[1;33m\u001b[0m\u001b[0m\n\u001b[0;32m      4\u001b[0m \u001b[1;32mimport\u001b[0m \u001b[0mrandom\u001b[0m\u001b[1;33m\u001b[0m\u001b[1;33m\u001b[0m\u001b[0m\n\u001b[1;32m----> 5\u001b[1;33m \u001b[1;32mfrom\u001b[0m \u001b[0mOpCV_Utils\u001b[0m \u001b[1;32mimport\u001b[0m \u001b[0mcolor_filtering\u001b[0m\u001b[1;33m,\u001b[0m \u001b[0mshow_single_image\u001b[0m\u001b[1;33m,\u001b[0m \u001b[0mshow_multiple_images_plt\u001b[0m\u001b[1;33m\u001b[0m\u001b[1;33m\u001b[0m\u001b[0m\n\u001b[0m",
      "\u001b[1;31mImportError\u001b[0m: cannot import name 'show_single_image' from 'OpCV_Utils' (C:\\Users\\Mafeus\\Desktop\\Git_Repos\\OpenCV\\Testing Grounds\\OpCV_Utils.py)"
     ]
    }
   ],
   "source": [
    "import numpy as np\n",
    "import cv2\n",
    "import matplotlib.pyplot as plt\n",
    "import random\n",
    "from OpCV_Utils import color_filtering, show_single_image, show_multiple_images_plt"
   ]
  },
  {
   "cell_type": "code",
   "execution_count": 2,
   "metadata": {},
   "outputs": [],
   "source": [
    "base_board = np.zeros((600,800, 3), dtype=np.uint8)"
   ]
  },
  {
   "cell_type": "code",
   "execution_count": 3,
   "metadata": {},
   "outputs": [],
   "source": [
    "cv2.imshow('Window', base_board)\n",
    "cv2.waitKey(0)\n",
    "cv2.destroyAllWindows()"
   ]
  },
  {
   "cell_type": "code",
   "execution_count": 1,
   "metadata": {},
   "outputs": [
    {
     "ename": "NameError",
     "evalue": "name 'np' is not defined",
     "output_type": "error",
     "traceback": [
      "\u001b[1;31m---------------------------------------------------------------------------\u001b[0m",
      "\u001b[1;31mNameError\u001b[0m                                 Traceback (most recent call last)",
      "\u001b[1;32m<ipython-input-1-998318c03592>\u001b[0m in \u001b[0;36m<module>\u001b[1;34m\u001b[0m\n\u001b[1;32m----> 1\u001b[1;33m \u001b[0mgeo_map\u001b[0m \u001b[1;33m=\u001b[0m \u001b[0mnp\u001b[0m\u001b[1;33m.\u001b[0m\u001b[0mones\u001b[0m\u001b[1;33m(\u001b[0m\u001b[1;33m(\u001b[0m\u001b[1;36m30\u001b[0m\u001b[1;33m,\u001b[0m\u001b[1;36m40\u001b[0m\u001b[1;33m)\u001b[0m\u001b[1;33m,\u001b[0m \u001b[0mdtype\u001b[0m\u001b[1;33m=\u001b[0m\u001b[0mnp\u001b[0m\u001b[1;33m.\u001b[0m\u001b[0muint8\u001b[0m\u001b[1;33m)\u001b[0m\u001b[1;33m*\u001b[0m\u001b[1;36m255\u001b[0m\u001b[1;33m\u001b[0m\u001b[1;33m\u001b[0m\u001b[0m\n\u001b[0m\u001b[0;32m      2\u001b[0m \u001b[0mgeo_map\u001b[0m\u001b[1;33m[\u001b[0m\u001b[1;36m0\u001b[0m\u001b[1;33m:\u001b[0m\u001b[1;36m30\u001b[0m\u001b[1;33m,\u001b[0m \u001b[1;36m0\u001b[0m\u001b[1;33m:\u001b[0m\u001b[1;36m4\u001b[0m\u001b[1;33m]\u001b[0m \u001b[1;33m=\u001b[0m \u001b[1;36m0\u001b[0m\u001b[1;33m\u001b[0m\u001b[1;33m\u001b[0m\u001b[0m\n\u001b[0;32m      3\u001b[0m \u001b[0mgeo_map\u001b[0m\u001b[1;33m[\u001b[0m\u001b[1;36m0\u001b[0m\u001b[1;33m:\u001b[0m\u001b[1;36m4\u001b[0m\u001b[1;33m,\u001b[0m \u001b[1;36m0\u001b[0m\u001b[1;33m:\u001b[0m\u001b[1;36m40\u001b[0m\u001b[1;33m]\u001b[0m \u001b[1;33m=\u001b[0m \u001b[1;36m0\u001b[0m\u001b[1;33m\u001b[0m\u001b[1;33m\u001b[0m\u001b[0m\n\u001b[0;32m      4\u001b[0m \u001b[0mgeo_map\u001b[0m\u001b[1;33m[\u001b[0m\u001b[1;36m26\u001b[0m\u001b[1;33m:\u001b[0m\u001b[1;36m30\u001b[0m\u001b[1;33m,\u001b[0m \u001b[1;36m0\u001b[0m\u001b[1;33m:\u001b[0m\u001b[1;36m40\u001b[0m\u001b[1;33m]\u001b[0m \u001b[1;33m=\u001b[0m \u001b[1;36m0\u001b[0m\u001b[1;33m\u001b[0m\u001b[1;33m\u001b[0m\u001b[0m\n\u001b[0;32m      5\u001b[0m \u001b[0mgeo_map\u001b[0m\u001b[1;33m[\u001b[0m\u001b[1;36m0\u001b[0m\u001b[1;33m:\u001b[0m\u001b[1;36m30\u001b[0m\u001b[1;33m,\u001b[0m \u001b[1;36m36\u001b[0m\u001b[1;33m:\u001b[0m\u001b[1;36m40\u001b[0m\u001b[1;33m]\u001b[0m \u001b[1;33m=\u001b[0m \u001b[1;36m0\u001b[0m\u001b[1;33m\u001b[0m\u001b[1;33m\u001b[0m\u001b[0m\n",
      "\u001b[1;31mNameError\u001b[0m: name 'np' is not defined"
     ]
    }
   ],
   "source": [
    "geo_map = np.ones((30,40), dtype=np.uint8)*255\n",
    "geo_map[0:30, 0:4] = 0\n",
    "geo_map[0:4, 0:40] = 0\n",
    "geo_map[26:30, 0:40] = 0\n",
    "geo_map[0:30, 36:40] = 0\n",
    "\n",
    "for i in range(400):\n",
    "    geo_map[random.randint(5,29), random.randint(5,39)] = 0\n",
    "    \n",
    "geo_map_rgb = cv2.cvtColor(geo_map, cv2.COLOR_GRAY2RGB)\n",
    "\n",
    "p_pos = [20, 20]\n",
    "geo_map_rgb[p_pos[0], p_pos[1]] = (0,0,255)\n",
    "\n",
    "show_single_image(geo_map_rg, 'geo_map', (20,20))"
   ]
  },
  {
   "cell_type": "code",
   "execution_count": 144,
   "metadata": {},
   "outputs": [],
   "source": [
    "def neighbours(geo_map, p_pos, direction):\n",
    "    \n",
    "    directs = {'UP':[[1,0],[1,-1],[1,1],[0,-1],[0,1]], \n",
    "               'DOWN':[[-1,0],[-1,1],[-1,-1],[0,1],[0,-1]],\n",
    "               'LEFT':[[0,1],[-1,1],[1,1],[-1,0],[1,0]],\n",
    "               'RIGHT':[[0,-1],[1,-1],[-1,-1],[1,0],[-1,0]]}\n",
    "    \n",
    "    dephts = {'UP':[[0,0]], \n",
    "               'DOWN':[],\n",
    "               'LEFT':[],\n",
    "               'RIGHT':[]}\n",
    "    \n",
    "    d = directs[direction]\n",
    "    \n",
    "    depht_front = geo_map.shape[0] - p_pos[0]\n",
    "    depht_left_corner = geo_map.shape[0] - p_pos[0]\n",
    "    depht_right_corner \n",
    "    depht_left =\n",
    "    depht_right = \n",
    "\n",
    "    neigh_front = geo_map[p_pos[0] + d[0][0], p_pos[1]  + d[0][1]]\n",
    "    neigh_left_corner = geo_map[p_pos[0] + d[1][0], p_pos[1] + d[1][1]]\n",
    "    neigh_right_corner = geo_map[p_pos[0] + d[2][0], p_pos[1] + d[2][1]]\n",
    "    neigh_left = geo_map[p_pos[0] + d[3][0], p_pos[1] + d[3][1]]\n",
    "    neigh_right = geo_map[p_pos[0] + d[4][0], p_pos[1] + d[4][1]]\n",
    "    \n",
    "    return [([neigh_left_corner, neigh_front, neigh_right_corner], [neigh_left, 0, neigh_right])]"
   ]
  },
  {
   "cell_type": "code",
   "execution_count": 145,
   "metadata": {},
   "outputs": [
    {
     "name": "stdout",
     "output_type": "stream",
     "text": [
      "[([255, 255, 255], [255, 0, 0])]\n",
      "[([255, 255, 255], [0, 0, 255])]\n",
      "[([255, 255, 255], [255, 0, 255])]\n",
      "[([255, 0, 255], [255, 0, 255])]\n"
     ]
    }
   ],
   "source": [
    "p_pos = [19,19]\n",
    "\n",
    "direction = 'UP'\n",
    "print(neighbours(geo_map, p_pos, direction))\n",
    "direction = 'DOWN'\n",
    "print(neighbours(geo_map, p_pos, direction))\n",
    "direction = 'LEFT'\n",
    "print(neighbours(geo_map, p_pos, direction))\n",
    "direction = 'RIGHT'\n",
    "print(neighbours(geo_map, p_pos, direction))"
   ]
  },
  {
   "cell_type": "code",
   "execution_count": null,
   "metadata": {},
   "outputs": [],
   "source": []
  }
 ],
 "metadata": {
  "kernelspec": {
   "display_name": "Python 3",
   "language": "python",
   "name": "python3"
  },
  "language_info": {
   "codemirror_mode": {
    "name": "ipython",
    "version": 3
   },
   "file_extension": ".py",
   "mimetype": "text/x-python",
   "name": "python",
   "nbconvert_exporter": "python",
   "pygments_lexer": "ipython3",
   "version": "3.7.1"
  }
 },
 "nbformat": 4,
 "nbformat_minor": 2
}
