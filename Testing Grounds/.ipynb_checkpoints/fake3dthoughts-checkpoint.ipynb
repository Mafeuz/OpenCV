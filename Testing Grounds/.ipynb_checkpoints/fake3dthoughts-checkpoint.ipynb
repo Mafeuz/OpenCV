{
 "cells": [
  {
   "cell_type": "code",
   "execution_count": 83,
   "metadata": {},
   "outputs": [],
   "source": [
    "import numpy as np\n",
    "import cv2\n",
    "import matplotlib.pyplot as plt\n",
    "import random\n",
    "from OpCV_Utils import color_filtering"
   ]
  },
  {
   "cell_type": "code",
   "execution_count": 58,
   "metadata": {},
   "outputs": [],
   "source": [
    "base_board = np.zeros((600,800, 3), dtype=np.uint8)"
   ]
  },
  {
   "cell_type": "code",
   "execution_count": 59,
   "metadata": {},
   "outputs": [],
   "source": [
    "cv2.imshow('Window', base_board)\n",
    "cv2.waitKey(0)\n",
    "cv2.destroyAllWindows()"
   ]
  },
  {
   "cell_type": "code",
   "execution_count": 123,
   "metadata": {},
   "outputs": [],
   "source": [
    "geo_map = np.ones((30,40), dtype=np.uint8)*255\n",
    "geo_map[0:30, 0:4] = 0\n",
    "geo_map[0:4, 0:40] = 0\n",
    "geo_map[26:30, 0:40] = 0\n",
    "geo_map[0:30, 36:40] = 0\n",
    "\n",
    "for i in range(400):\n",
    "    geo_map[random.randint(5,29), random.randint(5,39)] = 0\n",
    "\n",
    "geo_map[15:20, 15:20] = 255\n",
    "map_rescaled = cv2.resize(geo_map, (0,0), None, 10, 10)\n",
    "\n",
    "cv2.imshow('Map Rescaled', map_rescaled)\n",
    "cv2.waitKey(0)\n",
    "cv2.destroyAllWindows()"
   ]
  },
  {
   "cell_type": "code",
   "execution_count": 143,
   "metadata": {},
   "outputs": [
    {
     "name": "stdout",
     "output_type": "stream",
     "text": [
      "(300, 400, 3)\n"
     ]
    }
   ],
   "source": [
    "p_pos = [16, 17]\n",
    "boundaries = [([0,0,0],[255,255,255])]\n",
    "geo_map_bgr = cv2.cvtColor(geo_map, cv2.COLOR_GRAY2BGR)\n",
    "geo_map_bgr = cv2.resize(geo_map_bgr, (0,0), None, 10, 10)\n",
    "\n",
    "vis_map = color_filtering(geo_map_bgr, boundaries, binarization=True)\n",
    "vis_map = cv2.bitwise_not(vis_map)\n",
    "vis_map = cv2.cvtColor(vis_map, cv2.COLOR_GRAY2BGR)\n",
    "print(vis_map.shape)\n",
    "vis_map[p_pos[0]*10:10 + p_pos[0]*10, p_pos[1]*10:10 + p_pos[1]*10] = (255, 0, 0)\n",
    "\n",
    "cv2.imshow('vis map', vis_map)\n",
    "cv2.waitKey(0)\n",
    "cv2.destroyAllWindows()"
   ]
  },
  {
   "cell_type": "code",
   "execution_count": 144,
   "metadata": {},
   "outputs": [],
   "source": [
    "def neighbours(geo_map, p_pos, direction):\n",
    "    \n",
    "    directs = {'UP':[[1,0],[1,-1],[1,1],[0,-1],[0,1]], \n",
    "               'DOWN':[[-1,0],[-1,1],[-1,-1],[0,1],[0,-1]],\n",
    "               'LEFT':[[0,1],[-1,1],[1,1],[-1,0],[1,0]],\n",
    "               'RIGHT':[[0,-1],[1,-1],[-1,-1],[1,0],[-1,0]]}\n",
    "    \n",
    "    dephts = {'UP':[[0,0]], \n",
    "               'DOWN':[],\n",
    "               'LEFT':[],\n",
    "               'RIGHT':[]}\n",
    "    \n",
    "    d = directs[direction]\n",
    "    \n",
    "    depht_front = geo_map.shape[0] - p_pos[0]\n",
    "    depht_left_corner = geo_map.shape[0] - p_pos[0]\n",
    "    depht_right_corner \n",
    "    depht_left =\n",
    "    depht_right = \n",
    "\n",
    "    neigh_front = geo_map[p_pos[0] + d[0][0], p_pos[1]  + d[0][1]]\n",
    "    neigh_left_corner = geo_map[p_pos[0] + d[1][0], p_pos[1] + d[1][1]]\n",
    "    neigh_right_corner = geo_map[p_pos[0] + d[2][0], p_pos[1] + d[2][1]]\n",
    "    neigh_left = geo_map[p_pos[0] + d[3][0], p_pos[1] + d[3][1]]\n",
    "    neigh_right = geo_map[p_pos[0] + d[4][0], p_pos[1] + d[4][1]]\n",
    "    \n",
    "    return [([neigh_left_corner, neigh_front, neigh_right_corner], [neigh_left, 0, neigh_right])]"
   ]
  },
  {
   "cell_type": "code",
   "execution_count": 145,
   "metadata": {},
   "outputs": [
    {
     "name": "stdout",
     "output_type": "stream",
     "text": [
      "[([255, 255, 255], [255, 0, 0])]\n",
      "[([255, 255, 255], [0, 0, 255])]\n",
      "[([255, 255, 255], [255, 0, 255])]\n",
      "[([255, 0, 255], [255, 0, 255])]\n"
     ]
    }
   ],
   "source": [
    "p_pos = [19,19]\n",
    "\n",
    "direction = 'UP'\n",
    "print(neighbours(geo_map, p_pos, direction))\n",
    "direction = 'DOWN'\n",
    "print(neighbours(geo_map, p_pos, direction))\n",
    "direction = 'LEFT'\n",
    "print(neighbours(geo_map, p_pos, direction))\n",
    "direction = 'RIGHT'\n",
    "print(neighbours(geo_map, p_pos, direction))"
   ]
  },
  {
   "cell_type": "code",
   "execution_count": null,
   "metadata": {},
   "outputs": [],
   "source": []
  }
 ],
 "metadata": {
  "kernelspec": {
   "display_name": "Python 3",
   "language": "python",
   "name": "python3"
  },
  "language_info": {
   "codemirror_mode": {
    "name": "ipython",
    "version": 3
   },
   "file_extension": ".py",
   "mimetype": "text/x-python",
   "name": "python",
   "nbconvert_exporter": "python",
   "pygments_lexer": "ipython3",
   "version": "3.7.1"
  }
 },
 "nbformat": 4,
 "nbformat_minor": 2
}
