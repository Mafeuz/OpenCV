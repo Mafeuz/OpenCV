{
 "cells": [
  {
   "cell_type": "code",
   "execution_count": 1,
   "metadata": {},
   "outputs": [],
   "source": [
    "import numpy as np\n",
    "import cv2\n",
    "import time"
   ]
  },
  {
   "cell_type": "code",
   "execution_count": 2,
   "metadata": {},
   "outputs": [],
   "source": [
    "def Display_Multiple_Images(images_array, scale=0.5):\n",
    "        \n",
    "    ##############################################################################################################\n",
    "    # Resize images based on the shape of the first image:\n",
    "    for i in range(len(images_array)):\n",
    "        for j in range(len(images_array[i])):\n",
    "            images_array[i][j] = cv2.resize(images_array[i][j], (images_array[0][0].shape[1], images_array[0][0].shape[0]))\n",
    "    \n",
    "    # Images Rescaling and Convert Gray-scale to BGR if needed:\n",
    "    for i in range(len(images_array)):\n",
    "        for j in range(len(images_array[i])):\n",
    "            images_array[i][j] = cv2.resize(images_array[i][j], (0, 0), None, scale, scale)\n",
    "            \n",
    "            if (len(images_array[i][j].shape) == 2):\n",
    "                images_array[i][j] = cv2.cvtColor(images_array[i][j], cv2.COLOR_GRAY2BGR)\n",
    "                \n",
    "            if (len(images_array[i][j].shape) == 3):\n",
    "                if (images_array[i][j].shape[2] == 1):\n",
    "                    images_array[i][j] = cv2.cvtColor(images_array[i][j], cv2.COLOR_GRAY2BGR)\n",
    "    \n",
    "    ##############################################################################################################\n",
    "    # Let's equalize rows number of images:\n",
    "    lens = [1]*len(images_array)\n",
    "    \n",
    "    for i in range(len(images_array)):\n",
    "        lens[i] = len(images_array[i])\n",
    "    \n",
    "    # get max_len to add a blank image if necessary:\n",
    "    max_len = np.max(lens)\n",
    "    \n",
    "    for i in range(len(images_array)):\n",
    "        if (len(images_array[i]) < max_len):\n",
    "            blank_image = np.zeros((images_array[0][0].shape[0], images_array[0][0].shape[1] , 3),dtype=np.uint8)\n",
    "        \n",
    "            for j in range(max_len - len(images_array[i])):\n",
    "                images_array[i].append(blank_image)\n",
    "                \n",
    "    ##############################################################################################################\n",
    "    # Stacking images:\n",
    "    for i in range(len(images_array)):\n",
    "        for j in range(len(images_array[i])):\n",
    "            if (j == 0):\n",
    "                h_stack = images_array[i][j]\n",
    "            if (j > 0):\n",
    "                h_stack = np.hstack([h_stack, images_array[i][j]])\n",
    "        \n",
    "        if (i == 0):                          \n",
    "            v_stack = h_stack\n",
    "        if (i > 0):                          \n",
    "            v_stack = np.vstack([v_stack, h_stack])  \n",
    "                                 \n",
    "    return v_stack"
   ]
  },
  {
   "cell_type": "code",
   "execution_count": 3,
   "metadata": {},
   "outputs": [
    {
     "name": "stdout",
     "output_type": "stream",
     "text": [
      "Main\n"
     ]
    }
   ],
   "source": [
    "if __name__ == '__main__':\n",
    "    print('Main')"
   ]
  },
  {
   "cell_type": "code",
   "execution_count": null,
   "metadata": {},
   "outputs": [],
   "source": []
  }
 ],
 "metadata": {
  "kernelspec": {
   "display_name": "Python 3",
   "language": "python",
   "name": "python3"
  },
  "language_info": {
   "codemirror_mode": {
    "name": "ipython",
    "version": 3
   },
   "file_extension": ".py",
   "mimetype": "text/x-python",
   "name": "python",
   "nbconvert_exporter": "python",
   "pygments_lexer": "ipython3",
   "version": "3.7.1"
  }
 },
 "nbformat": 4,
 "nbformat_minor": 2
}
