{
 "cells": [
  {
   "cell_type": "code",
   "execution_count": 1,
   "metadata": {},
   "outputs": [],
   "source": [
    "import numpy as np\n",
    "import cv2\n",
    "import time"
   ]
  },
  {
   "cell_type": "code",
   "execution_count": 572,
   "metadata": {},
   "outputs": [],
   "source": [
    "def Display_Multiple_Images(images_array, scale=0.5):\n",
    "        \n",
    "    ##############################################################################################################\n",
    "    # Resize images based on the shape of the first image:\n",
    "    for i in range(len(images_array)):\n",
    "        for j in range(len(images_array[i])):\n",
    "            images_array[i][j] = cv2.resize(images_array[i][j], (images_array[0][0].shape[1], images_array[0][0].shape[0]))\n",
    "    \n",
    "    # Images Rescaling and Convert Gray-scale to BGR if needed:\n",
    "    for i in range(len(images_array)):\n",
    "        for j in range(len(images_array[i])):\n",
    "            images_array[i][j] = cv2.resize(images_array[i][j], (0, 0), None, scale, scale)\n",
    "            \n",
    "            if (len(images_array[i][j].shape) == 2):\n",
    "                images_array[i][j] = cv2.cvtColor(images_array[i][j], cv2.COLOR_GRAY2BGR)\n",
    "                \n",
    "            if (len(images_array[i][j].shape) == 3):\n",
    "                if (images_array[i][j].shape[2] == 1):\n",
    "                    images_array[i][j] = cv2.cvtColor(images_array[i][j], cv2.COLOR_GRAY2BGR)\n",
    "    \n",
    "    ##############################################################################################################\n",
    "    # Let's equalize rows number of images:\n",
    "    lens = [1]*len(images_array)\n",
    "    \n",
    "    for i in range(len(images_array)):\n",
    "        lens[i] = len(images_array[i])\n",
    "    \n",
    "    # get max_len to add a blank image if necessary:\n",
    "    max_len = np.max(lens)\n",
    "    \n",
    "    for i in range(len(images_array)):\n",
    "        if (len(images_array[i]) < max_len):\n",
    "            blank_image = np.zeros((images_array[0][0].shape[0], images_array[0][0].shape[1] , 3),dtype=np.uint8)\n",
    "        \n",
    "            for j in range(max_len - len(images_array[i])):\n",
    "                images_array[i].append(blank_image)\n",
    "                \n",
    "    ##############################################################################################################\n",
    "    # Stacking images:\n",
    "    for i in range(len(images_array)):\n",
    "        for j in range(len(images_array[i])):\n",
    "            if (j == 0):\n",
    "                h_stack = images_array[i][j]\n",
    "            if (j > 0):\n",
    "                h_stack = np.hstack([h_stack, images_array[i][j]])\n",
    "        \n",
    "        if (i == 0):                          \n",
    "            v_stack = h_stack\n",
    "        if (i > 0):                          \n",
    "            v_stack = np.vstack([v_stack, h_stack])  \n",
    "                                 \n",
    "    return v_stack"
   ]
  },
  {
   "cell_type": "code",
   "execution_count": 573,
   "metadata": {},
   "outputs": [],
   "source": [
    "image1 = cv2.imread('OpenCV/ztest_media/result.jpg')\n",
    "image2 = cv2.imread('OpenCV/ztest_media/cachorros.jpg')\n",
    "image3 = cv2.cvtColor(image2, cv2.COLOR_BGR2GRAY)"
   ]
  },
  {
   "cell_type": "code",
   "execution_count": 574,
   "metadata": {
    "scrolled": true
   },
   "outputs": [],
   "source": [
    "images_array = [[image2], [image1, image3, image1], [image3, image1]]\n",
    "stack_images = Display_Multiple_Images(images_array, scale=0.1)\n",
    "cv2.imshow('test',stack_images)\n",
    "cv2.waitKey(0)\n",
    "cv2.destroyAllWindows()\n",
    "\n",
    "images_array = [[image1], [image3, image2], [image1]]\n",
    "stack_images = Display_Multiple_Images(images_array, scale = 0.3)\n",
    "cv2.imshow('test',stack_images)\n",
    "cv2.waitKey(0)\n",
    "cv2.destroyAllWindows()"
   ]
  },
  {
   "cell_type": "code",
   "execution_count": 575,
   "metadata": {},
   "outputs": [],
   "source": [
    "def video_func(video, dims = (640, 480), show_fps=False):\n",
    "    \n",
    "    # Select Desired Video\n",
    "    video = cv2.VideoCapture(video)\n",
    "    video_fps = video.get(cv2.CAP_PROP_FPS)\n",
    "    \n",
    "    # Video stream loop:\n",
    "    \n",
    "    while True:\n",
    "        ret, frame = video.read()\n",
    "\n",
    "        start = time.time()\n",
    "\n",
    "        if not ret: # Break the loop if no video is load.\n",
    "            break\n",
    "                      \n",
    "        key = cv2.waitKey(1) or 0xff\n",
    "\n",
    "        if key == ord('k'):\n",
    "            break\n",
    "\n",
    "        frame = cv2.resize(frame,(dims))\n",
    "        gray_frame = cv2.cvtColor(frame, cv2.COLOR_BGR2GRAY)\n",
    "\n",
    "        frame = Display_Multiple_Images([[frame, frame],[gray_frame], [frame, gray_frame, frame]], scale=0.3)\n",
    "        \n",
    "        end = time.time()\n",
    "      \n",
    "        frame_time = (end - start) + 0.0001\n",
    "        fps = np.floor(1/frame_time)\n",
    "        \n",
    "        if (fps > video_fps):\n",
    "            time.sleep(1/video_fps)\n",
    "            fps = video_fps\n",
    "        \n",
    "        if (show_fps):\n",
    "            cv2.putText(frame, \"FPS: {}\".format(fps), (0, 430),cv2.FONT_HERSHEY_SIMPLEX, 0.7, (0, 50, 255), 2)\n",
    "\n",
    "        cv2.imshow(\"frame\", frame)\n",
    "        #**************************************************************************************************************************    \n",
    "\n",
    "    video.release()\n",
    "    cv2.destroyAllWindows()"
   ]
  },
  {
   "cell_type": "code",
   "execution_count": 576,
   "metadata": {},
   "outputs": [],
   "source": [
    "video = 'OpenCV/ztest_media/people.mp4'\n",
    "video_func(video, dims = (640, 480), show_fps=True)"
   ]
  },
  {
   "cell_type": "code",
   "execution_count": null,
   "metadata": {},
   "outputs": [],
   "source": []
  }
 ],
 "metadata": {
  "kernelspec": {
   "display_name": "Python 3",
   "language": "python",
   "name": "python3"
  },
  "language_info": {
   "codemirror_mode": {
    "name": "ipython",
    "version": 3
   },
   "file_extension": ".py",
   "mimetype": "text/x-python",
   "name": "python",
   "nbconvert_exporter": "python",
   "pygments_lexer": "ipython3",
   "version": "3.7.1"
  }
 },
 "nbformat": 4,
 "nbformat_minor": 2
}
