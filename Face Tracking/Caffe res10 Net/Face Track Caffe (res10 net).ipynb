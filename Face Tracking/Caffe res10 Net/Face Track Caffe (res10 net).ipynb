{
 "cells": [
  {
   "cell_type": "markdown",
   "metadata": {},
   "source": [
    "### OpenCV + Caffe (res10 net) Face Detection Video ###"
   ]
  },
  {
   "cell_type": "code",
   "execution_count": 5,
   "metadata": {},
   "outputs": [],
   "source": [
    "# ref: https://www.pyimagesearch.com/2018/02/26/face-detection-with-opencv-and-deep-learning/"
   ]
  },
  {
   "cell_type": "code",
   "execution_count": 17,
   "metadata": {},
   "outputs": [],
   "source": [
    "import numpy as np\n",
    "import time\n",
    "import cv2\n",
    "import matplotlib.pyplot as plt"
   ]
  },
  {
   "cell_type": "markdown",
   "metadata": {},
   "source": [
    "### Setup Functions ###"
   ]
  },
  {
   "cell_type": "code",
   "execution_count": 18,
   "metadata": {},
   "outputs": [],
   "source": [
    "def net_processing(img, net):\n",
    "    # Pass img/frame, net and output layers get output:\n",
    "\n",
    "    start= time.time()\n",
    "\n",
    "    # Modify img to input format:\n",
    "    blob = cv2.dnn.blobFromImage(cv2.resize(img, (300, 300)), 1.0, (300, 300), (104.0, 177.0, 123.0))\n",
    "\n",
    "    # Pass to net:\n",
    "    net.setInput(blob)\n",
    "    detections = net.forward()\n",
    "\n",
    "    end = time.time()\n",
    "    \n",
    "    process_time = end - start\n",
    "    \n",
    "    return detections, process_time"
   ]
  },
  {
   "cell_type": "code",
   "execution_count": 29,
   "metadata": {},
   "outputs": [],
   "source": [
    "def net_detect(img, net, des_threshold):\n",
    "    # Output format:\n",
    "    # (pc, bx, by, bh, bw, .... class_preds)\n",
    "\n",
    "    (H, W) = img.shape[:2]\n",
    "    \n",
    "    detections, process_time = net_processing(img, net)\n",
    "    \n",
    "    locations = np.zeros((5,))\n",
    "    \n",
    "    for i in range(0, detections.shape[2]):\n",
    "\n",
    "        confidence = detections[0, 0, i, 2]\n",
    " \n",
    "        if confidence >= des_threshold:\n",
    "        \n",
    "            box = detections[0, 0, i, 3:7] * np.array([W, H, W, H])\n",
    "            (startX, startY, endX, endY) = box.astype(\"int\")\n",
    "            \n",
    "            box_info = [(i+1), startX, startY, endX, endY]\n",
    "            locations = np.vstack([locations, box_info])\n",
    "            \n",
    "            (w, h) = ((endX - startX), (endY - startY))\n",
    "    \n",
    "            text = \"Face{}: {:.2f}%\".format((i+1), confidence * 100)\n",
    "                \n",
    "            # add litle background to class name info:\n",
    "            backg = np.full((img.shape), (0,0,0), dtype=np.uint8)\n",
    "            cv2.putText(backg, text, (startX, startY - 5), cv2.FONT_HERSHEY_SIMPLEX, 0.5, (255,255,255), 2)\n",
    "            fx,fy,fw,fh = cv2.boundingRect(backg[:,:,2])\n",
    "                \n",
    "            # Draw obj bbox:\n",
    "            cv2.rectangle(img, (startX, startY), (startX + w, startY + h), (0, 0, 255), 2) \n",
    "            cv2.rectangle(img, (fx, fy), (fx + fw, fy + fh), (0, 0, 255), -1) \n",
    "            cv2.rectangle(img, (fx, fy), (fx + fw, fy + fh), (0, 0, 255), 3) \n",
    "            cv2.putText(img, text, (startX, startY - 5), cv2.FONT_HERSHEY_SIMPLEX, 0.45, (0,0,0), 1)         \n",
    "    \n",
    "    return img, locations[1:], process_time"
   ]
  },
  {
   "cell_type": "markdown",
   "metadata": {},
   "source": [
    "### Object Detection and Classification: ###"
   ]
  },
  {
   "cell_type": "code",
   "execution_count": 30,
   "metadata": {},
   "outputs": [],
   "source": [
    "## Fast Caffe files from: https://github.com/vinuvish/Face-detection-with-OpenCV-and-deep-learning/tree/master/models"
   ]
  },
  {
   "cell_type": "code",
   "execution_count": 31,
   "metadata": {},
   "outputs": [],
   "source": [
    "# Net Architecture Weights and Configuration:\n",
    "caffe_proto = 'deploy.prototxt.txt'\n",
    "caffe_model = 'res10_300x300_ssd_iter_140000.caffemodel'\n",
    "\n",
    "net = cv2.dnn.readNetFromCaffe(caffe_proto, caffe_model)"
   ]
  },
  {
   "cell_type": "code",
   "execution_count": 32,
   "metadata": {},
   "outputs": [],
   "source": [
    "# Define video file:\n",
    "video = 'people.mp4'\n",
    "\n",
    "# Define threshold:\n",
    "des_threshold = 0.4"
   ]
  },
  {
   "cell_type": "code",
   "execution_count": 33,
   "metadata": {},
   "outputs": [
    {
     "name": "stdout",
     "output_type": "stream",
     "text": [
      "Caffe Process time: 0.06247305870056152\n",
      "Last locations: [[  1. 147.  96. 190. 179.]\n",
      " [  2. 287. 100. 332. 178.]\n",
      " [  3.  65.  66. 112. 170.]\n",
      " [  4. 470.  84. 512. 180.]]\n"
     ]
    }
   ],
   "source": [
    "# Load Video:\n",
    "cap = cv2.VideoCapture(video)\n",
    "video_fps = cap.get(cv2.CAP_PROP_FPS)\n",
    "\n",
    "while True:\n",
    "    \n",
    "    start = time.time()\n",
    "    \n",
    "    success, frame = cap.read()\n",
    "    \n",
    "    if not success:\n",
    "        print('Server OFF')\n",
    "        break\n",
    "        \n",
    "    frame = cv2.resize(frame, (600,500))\n",
    "    \n",
    "    ###############################################################################################################\n",
    "    \n",
    "    frame, locations, process_time = net_detect(frame, net, des_threshold)\n",
    "    \n",
    "    ###############################################################################################################\n",
    "    \n",
    "    end = time.time()\n",
    "\n",
    "    frame_time = (end - start) + 0.0001\n",
    "    fps = np.floor(1/frame_time)\n",
    "        \n",
    "    if (fps > video_fps):\n",
    "        time.sleep(1/video_fps)\n",
    "        fps = video_fps\n",
    "            \n",
    "    cv2.putText(frame, \"FPS: {}\".format(fps), (30,20), cv2.FONT_HERSHEY_SIMPLEX, 0.5, (0, 0, 255), 2)\n",
    "    \n",
    "    # Keyboard Controls:\n",
    "    \n",
    "    key = cv2.waitKey(1) or 0xff   \n",
    "        \n",
    "    if key == ord('k'):\n",
    "        break\n",
    "    \n",
    "    cv2.imshow(\"Output\", frame)\n",
    "    \n",
    "cv2.destroyAllWindows()\n",
    "cap.release()\n",
    "\n",
    "print('Caffe Process time:', process_time)\n",
    "print('Last locations:', locations)"
   ]
  },
  {
   "cell_type": "code",
   "execution_count": null,
   "metadata": {},
   "outputs": [],
   "source": []
  }
 ],
 "metadata": {
  "kernelspec": {
   "display_name": "Python 3",
   "language": "python",
   "name": "python3"
  },
  "language_info": {
   "codemirror_mode": {
    "name": "ipython",
    "version": 3
   },
   "file_extension": ".py",
   "mimetype": "text/x-python",
   "name": "python",
   "nbconvert_exporter": "python",
   "pygments_lexer": "ipython3",
   "version": "3.7.1"
  }
 },
 "nbformat": 4,
 "nbformat_minor": 2
}
