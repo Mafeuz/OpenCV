{
 "cells": [
  {
   "cell_type": "markdown",
   "metadata": {},
   "source": [
    "### OpenCV + Caffe Face Detection Video ###"
   ]
  },
  {
   "cell_type": "code",
   "execution_count": 3,
   "metadata": {},
   "outputs": [],
   "source": [
    "# ref: https://www.pyimagesearch.com/2018/02/26/face-detection-with-opencv-and-deep-learning/"
   ]
  },
  {
   "cell_type": "code",
   "execution_count": 1,
   "metadata": {},
   "outputs": [],
   "source": [
    "import numpy as np\n",
    "import time\n",
    "import cv2\n",
    "import matplotlib.pyplot as plt"
   ]
  },
  {
   "cell_type": "markdown",
   "metadata": {},
   "source": [
    "### Setup Functions ###"
   ]
  },
  {
   "cell_type": "code",
   "execution_count": 2,
   "metadata": {},
   "outputs": [],
   "source": [
    "def caffe_config_net(proto, model):\n",
    "    # Config net using cv2 (needs weights and config files)\n",
    "    net = cv2.dnn.readNetFromCaffe(proto, model)\n",
    "    \n",
    "    return net"
   ]
  },
  {
   "cell_type": "code",
   "execution_count": 3,
   "metadata": {},
   "outputs": [],
   "source": [
    "def caffe_processing(img, net):\n",
    "    # Pass img/frame, net and output layers get output:\n",
    "\n",
    "    start= time.time()\n",
    "\n",
    "    # Modify img to input format:\n",
    "    blob = cv2.dnn.blobFromImage(cv2.resize(img, (300, 300)), 1.0, (300, 300), (104.0, 177.0, 123.0))\n",
    "\n",
    "    # Pass to net:\n",
    "    net.setInput(blob)\n",
    "    detections = net.forward()\n",
    "\n",
    "    end = time.time()\n",
    "    \n",
    "    process_time = end - start\n",
    "    \n",
    "    return detections, process_time"
   ]
  },
  {
   "cell_type": "code",
   "execution_count": 4,
   "metadata": {},
   "outputs": [],
   "source": [
    "def caffe_detect(img, net, des_threshold):\n",
    "    # Output format:\n",
    "    # (pc, bx, by, bh, bw, .... class_preds)\n",
    "\n",
    "    (H, W) = img.shape[:2]\n",
    "    \n",
    "    detections, process_time = caffe_processing(img, net)\n",
    "    \n",
    "    locations = np.zeros((5,))\n",
    "    \n",
    "    for i in range(0, detections.shape[2]):\n",
    "        # extract the confidence (i.e., probability) associated with the prediction\n",
    "        confidence = detections[0, 0, i, 2]\n",
    "        # filter out weak detections by ensuring the `confidence` is\n",
    "        # greater than the minimum confidence\n",
    "        if confidence >= des_threshold:\n",
    "            # compute the (x, y)-coordinates of the bounding box for the object\n",
    "            box = detections[0, 0, i, 3:7] * np.array([W, H, W, H])\n",
    "            (startX, startY, endX, endY) = box.astype(\"int\")\n",
    "            \n",
    "            box_info = [(i+1), startX, startY, endX, endY]\n",
    "            locations = np.vstack([locations, box_info])\n",
    "            \n",
    "            # draw the bounding box of the face along with the associated probability\n",
    "            text = \"Face{}: {:.2f}%\".format((i+1), confidence * 100)\n",
    "            y = startY - 10 if startY - 10 > 10 else startY + 10\n",
    "            cv2.rectangle(img, (startX, startY), (endX, endY), (0, 0, 255), 2)\n",
    "            cv2.putText(img, text, (startX, y), cv2.FONT_HERSHEY_SIMPLEX, 0.45, (0, 0, 255), 1)            \n",
    "    \n",
    "    return img, locations[1:], process_time"
   ]
  },
  {
   "cell_type": "markdown",
   "metadata": {},
   "source": [
    "### Object Detection and Classification: ###"
   ]
  },
  {
   "cell_type": "code",
   "execution_count": 39,
   "metadata": {},
   "outputs": [],
   "source": [
    "## Fast Caffe files from: https://github.com/vinuvish/Face-detection-with-OpenCV-and-deep-learning/tree/master/models"
   ]
  },
  {
   "cell_type": "code",
   "execution_count": 5,
   "metadata": {},
   "outputs": [],
   "source": [
    "# Get Yolo Net Architecture Weights and Configuration:\n",
    "caffe_proto = 'deploy.prototxt.txt'\n",
    "caffe_model = 'res10_300x300_ssd_iter_140000.caffemodel'\n",
    "net = caffe_config_net(caffe_proto, caffe_model)"
   ]
  },
  {
   "cell_type": "code",
   "execution_count": 6,
   "metadata": {},
   "outputs": [],
   "source": [
    "# Define video file:\n",
    "video = 'people.mp4'\n",
    "\n",
    "# Define threshold:\n",
    "des_threshold = 0.4"
   ]
  },
  {
   "cell_type": "code",
   "execution_count": 8,
   "metadata": {},
   "outputs": [
    {
     "name": "stdout",
     "output_type": "stream",
     "text": [
      "Caffe Process time: 0.06248283386230469\n",
      "Last locations: [[  1. 241.  91. 288. 177.]\n",
      " [  2. 101. 104. 144. 184.]\n",
      " [  3. 431. 100. 488. 187.]]\n"
     ]
    }
   ],
   "source": [
    "# Load Video:\n",
    "cap = cv2.VideoCapture(video)\n",
    "video_fps = cap.get(cv2.CAP_PROP_FPS)\n",
    "\n",
    "while True:\n",
    "    \n",
    "    start = time.time()\n",
    "    \n",
    "    success, frame = cap.read()\n",
    "    \n",
    "    if not success:\n",
    "        print('Server OFF')\n",
    "        break\n",
    "        \n",
    "    frame = cv2.resize(frame, (600,500))\n",
    "    \n",
    "    # Keyboard Controls:\n",
    "    \n",
    "    key = cv2.waitKey(1) or 0xff   \n",
    "        \n",
    "    if key == ord('k'):\n",
    "        break\n",
    "    \n",
    "    #######################################\n",
    "    \n",
    "    frame, locations, process_time = caffe_detect(frame, net, des_threshold)\n",
    "    \n",
    "    #######################################\n",
    "    \n",
    "    end = time.time()\n",
    "\n",
    "    frame_time = (end - start) + 0.0001\n",
    "    fps = np.floor(1/frame_time)\n",
    "        \n",
    "    if (fps > video_fps):\n",
    "        time.sleep(1/video_fps)\n",
    "        fps = video_fps\n",
    "            \n",
    "    cv2.putText(frame, \"FPS: {}\".format(fps), (30,20), cv2.FONT_HERSHEY_SIMPLEX, 0.5, (0, 0, 255), 2)\n",
    "    \n",
    "    if success:\n",
    "        cv2.imshow(\"Output\", frame)\n",
    "    \n",
    "cv2.destroyAllWindows()\n",
    "cap.release()\n",
    "\n",
    "print('Caffe Process time:', process_time)\n",
    "print('Last locations:', locations)"
   ]
  },
  {
   "cell_type": "code",
   "execution_count": null,
   "metadata": {},
   "outputs": [],
   "source": []
  }
 ],
 "metadata": {
  "kernelspec": {
   "display_name": "Python 3",
   "language": "python",
   "name": "python3"
  },
  "language_info": {
   "codemirror_mode": {
    "name": "ipython",
    "version": 3
   },
   "file_extension": ".py",
   "mimetype": "text/x-python",
   "name": "python",
   "nbconvert_exporter": "python",
   "pygments_lexer": "ipython3",
   "version": "3.7.1"
  }
 },
 "nbformat": 4,
 "nbformat_minor": 2
}
